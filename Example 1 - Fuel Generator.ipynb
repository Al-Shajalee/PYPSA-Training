{
 "cells": [
  {
   "cell_type": "markdown",
   "metadata": {},
   "source": [
    "<span style=\"color: red; font-size: 2em; font-weight: bold;\">Understanding PyPSA’s Components</span>"
   ]
  },
  {
   "cell_type": "markdown",
   "metadata": {},
   "source": [
    "PyPSA is built around key components:\n",
    "\n",
    "Networks: The main data structure that represents the power grid. It consists of buses, lines, generators, loads, and other elements.\n",
    "\n",
    "Buses(Represent connection points for electricity): Nodes in the network where components like generators, loads, or storage units connect(Represent connection points for electricity).\n",
    "\n",
    "Lines (Transport electricity): Connections between buses that transport power.\n",
    "\n",
    "Generators ( Produce electricity): Produce power and are associated with costs and constraints.\n",
    "\n",
    "Loads (Consume electricity): Represent power demand at a bus.\n",
    "\n",
    "Storage Units: Store and release energy, useful for modeling batteries or other storage solutions."
   ]
  },
  {
   "cell_type": "markdown",
   "metadata": {},
   "source": [
    "<span style=\"color: red; font-size: 2em; font-weight: bold;\">Example 1: Generator-Load Network</span>\n"
   ]
  },
  {
   "attachments": {
    "image-2.png": {
     "image/png": "[encoded data removed]"
    }
   },
   "cell_type": "markdown",
   "metadata": {},
   "source": [
    "We’ll create a simple example network with:\n",
    "    \n",
    "    Two buses.\n",
    "        A generator at one bus.\n",
    "        A load at the other bus.\n",
    "    A transmission line connecting them.\n",
    "    \n",
    "\n",
    "![image-2.png](attachment:image-2.png)"
   ]
  },
  {
   "cell_type": "markdown",
   "metadata": {},
   "source": [
    "# Step 1: Setting Up the Environment"
   ]
  },
  {
   "cell_type": "markdown",
   "metadata": {},
   "source": [
    "## Install PyPSA"
   ]
  },
  {
   "cell_type": "code",
   "execution_count": 1,
   "metadata": {},
   "outputs": [],
   "source": [
    "# You can install PyPSA using pip:\n",
    "#!pip install pypsa"
   ]
  },
  {
   "cell_type": "code",
   "execution_count": 2,
   "metadata": {},
   "outputs": [],
   "source": [
    "# Import pypsa \n",
    "import pypsa"
   ]
  },
  {
   "cell_type": "markdown",
   "metadata": {},
   "source": [
    "## Additional Libraries\n",
    "PyPSA may require other libraries for plotting and numerical operations:"
   ]
  },
  {
   "cell_type": "code",
   "execution_count": 3,
   "metadata": {},
   "outputs": [],
   "source": [
    "# pip install numpy pandas matplotlib networkx"
   ]
  },
  {
   "cell_type": "code",
   "execution_count": 3,
   "metadata": {},
   "outputs": [],
   "source": [
    "import pandas as pd \n",
    "import numpy as np\n",
    "import matplotlib.pyplot as plt"
   ]
  },
  {
   "cell_type": "markdown",
   "metadata": {},
   "source": [
    "# Step 2: Creating Your Network:"
   ]
  },
  {
   "cell_type": "markdown",
   "metadata": {},
   "source": [
    "## Creating the Network"
   ]
  },
  {
   "cell_type": "code",
   "execution_count": 4,
   "metadata": {},
   "outputs": [],
   "source": [
    "# Create an empty network\n",
    "network = pypsa.Network()"
   ]
  },
  {
   "cell_type": "markdown",
   "metadata": {},
   "source": [
    "## Add buses"
   ]
  },
  {
   "cell_type": "code",
   "execution_count": null,
   "metadata": {},
   "outputs": [],
   "source": [
    "# Add 2 buses\n",
    "network.add(\"Bus\", \"Bus 1\", v_nom=20)\n",
    "network.add(\"Bus\", \"Bus 2\", v_nom=20)\n",
    "\n",
    "network.buses"
   ]
  },
  {
   "cell_type": "markdown",
   "metadata": {},
   "source": [
    "Network: Represents the electrical network.\n",
    "\n",
    "Bus: A bus represents a point in the system where power is injected or consumed. It’s where all electrical components (load, generator) connect.\n",
    "\n",
    "v_nom: This is the nominal voltage of the bus. For simplicity, we set it to 20 kV."
   ]
  },
  {
   "cell_type": "markdown",
   "metadata": {},
   "source": [
    "## Add a Load\n",
    "A load consumes power from the grid. Let’s add a load to Bus2 that will consume some power."
   ]
  },
  {
   "cell_type": "code",
   "execution_count": 8,
   "metadata": {},
   "outputs": [],
   "source": [
    "# Add a load to Bus 2\n",
    "network.add(\"Load\", \"Load 1\", bus=\"Bus 2\", p_set=80, q_set=20)"
   ]
  },
  {
   "cell_type": "markdown",
   "metadata": {},
   "source": [
    "Load: Represents a power consumer.\n",
    "\n",
    "bus: The bus where the load is connected.\n",
    "\n",
    "p_set: The real power demand of the load (in MW). We set it to 50 MW.a Fixed load (MW)\n",
    "\n",
    "q_set: The reactive power demand (in MVAR). We set it to 0.2 MVAR, which is important for maintaining the voltage stability in the system."
   ]
  },
  {
   "cell_type": "markdown",
   "metadata": {},
   "source": [
    "## Add a Generator"
   ]
  },
  {
   "cell_type": "code",
   "execution_count": 7,
   "metadata": {},
   "outputs": [],
   "source": [
    "# Add a generator to Bus 1 \n",
    "network.add(\"Generator\", \"Gen 1\", bus=\"Bus 1\", p_set=60 , marginal_cost=50, control='Slack', ) "
   ]
  },
  {
   "cell_type": "markdown",
   "metadata": {},
   "source": [
    "Generator: Represents a generator that supplies power to the grid.\n",
    "\n",
    "bus: This defines which bus the generator is connected to, in this case, Bus1.\n",
    "\n",
    "p_nom: Nominal power capacity (MW)\n",
    "p_set: The power setpoint for the generator, representing the real power it is generating (in MW). We set it to 1.0 MW.\n",
    "marginal_cost=: Cost of generation ($/MWh)\n",
    "\n",
    "control='Slack': This makes the generator a slack generator, which means it determines the system's voltage and frequency. In other words, it acts as a reference point."
   ]
  },
  {
   "cell_type": "markdown",
   "metadata": {},
   "source": [
    "## Add a Line\n",
    "Now we will add a transmission line between two buses. For now, let’s set up the line between Bus1 and a second bus, Bus2."
   ]
  },
  {
   "cell_type": "code",
   "execution_count": 9,
   "metadata": {},
   "outputs": [],
   "source": [
    "# Add a transmission line connecting Bus 1 and Bus 2\n",
    "network.add(\"Line\", \"Line 1\", bus0=\"Bus 1\", bus1=\"Bus 2\", s_nom=60, r=0.02, x=0.05)"
   ]
  },
  {
   "cell_type": "markdown",
   "metadata": {},
   "source": [
    "Line: Represents a transmission line between two buses.\n",
    "\n",
    "bus0, bus1: The buses connected by the line.\n",
    "     bus0=\"Bus 1\",           # Start at Bus 1\n",
    "     bus1=\"Bus 2\",           # End at Bus 2\n",
    "\n",
    "s_nom: Nominal capacity (MW)\n",
    " \n",
    "x: The reactance of the line (in per unit). It represents the line’s opposition to alternating current (AC) and impacts the phase difference between voltage and current.\n",
    "\n",
    "r: The resistance of the line (in per unit). It represents energy losses due to resistance in the transmission."
   ]
  },
  {
   "cell_type": "markdown",
   "metadata": {},
   "source": [
    "# Step 3: Check results"
   ]
  },
  {
   "cell_type": "code",
   "execution_count": 10,
   "metadata": {},
   "outputs": [
    {
     "name": "stdout",
     "output_type": "stream",
     "text": [
      "Generator Output (in MW):\n",
      "Empty DataFrame\n",
      "Columns: []\n",
      "Index: [now]\n"
     ]
    }
   ],
   "source": [
    "print(\"Generator Output (in MW):\")\n",
    "print(network.generators_t.p)"
   ]
  },
  {
   "cell_type": "code",
   "execution_count": 11,
   "metadata": {},
   "outputs": [
    {
     "name": "stdout",
     "output_type": "stream",
     "text": [
      "Load Demand (in MW):\n",
      "Empty DataFrame\n",
      "Columns: []\n",
      "Index: [now]\n"
     ]
    }
   ],
   "source": [
    "print(\"Load Demand (in MW):\")\n",
    "print(network.loads_t.p)"
   ]
  },
  {
   "cell_type": "code",
   "execution_count": 12,
   "metadata": {},
   "outputs": [
    {
     "name": "stderr",
     "output_type": "stream",
     "text": [
      "WARNING:pypsa.plot:Cartopy needs to be installed to use `geomap=True`.\n"
     ]
    },
    {
     "data": {
      "image/png": "[encoded data removed]",
      "text/plain": [
       "<Figure size 640x480 with 1 Axes>"
      ]
     },
     "metadata": {},
     "output_type": "display_data"
    }
   ],
   "source": [
    "# Visualize the network\n",
    "\n",
    "import matplotlib.pyplot as plt\n",
    "network.plot()\n",
    "plt.title(\"Power Network Visualization\")\n",
    "plt.show()"
   ]
  },
  {
   "cell_type": "code",
   "execution_count": 13,
   "metadata": {},
   "outputs": [
    {
     "name": "stdout",
     "output_type": "stream",
     "text": [
      "PyPSA Network\n",
      "Components:\n",
      " - Bus: 2\n",
      " - Generator: 1\n",
      " - Line: 1\n",
      " - Load: 1\n",
      "Snapshots: 1\n"
     ]
    }
   ],
   "source": [
    "# Print the network\n",
    "print(network)"
   ]
  },
  {
   "cell_type": "markdown",
   "metadata": {},
   "source": [
    "# Step 4: Solving the Network\n",
    "PyPSA includes tools for solving network power flows and optimization problems."
   ]
  },
  {
   "cell_type": "markdown",
   "metadata": {},
   "source": [
    "## Power Flow Calculation\n",
    "After setting up the network, calculate the power flow:\n",
    "We will now solve the network to find the power flow, voltages at each bus, and the power transmitted through the lines."
   ]
  },
  {
   "cell_type": "code",
   "execution_count": 14,
   "metadata": {},
   "outputs": [
    {
     "name": "stderr",
     "output_type": "stream",
     "text": [
      "INFO:pypsa.pf:Performing linear load-flow on AC sub-network SubNetwork 0 for snapshot(s) Index(['now'], dtype='object', name='snapshot')\n",
      "INFO:pypsa.pf:Performing non-linear load-flow on AC sub-network SubNetwork 0 for snapshots Index(['now'], dtype='object', name='snapshot')\n",
      "INFO:pypsa.pf:Newton-Raphson solved in 3 iterations with error of 0.000000 in 0.021027 seconds\n"
     ]
    },
    {
     "data": {
      "text/plain": [
       "{'n_iter': SubNetwork  0\n",
       " snapshot     \n",
       " now         3,\n",
       " 'error': SubNetwork             0\n",
       " snapshot                \n",
       " now         1.058709e-12,\n",
       " 'converged': SubNetwork     0\n",
       " snapshot        \n",
       " now         True}"
      ]
     },
     "execution_count": 14,
     "metadata": {},
     "output_type": "execute_result"
    }
   ],
   "source": [
    "# Run the power flow calculation\n",
    "network.lpf()  # Linear Power Flow (Faster)\n",
    "\n",
    "print(\"-----------------\")\n",
    "\n",
    "network.pf()   # Full Power Flow (More accurate)\n",
    "\n",
    "# Increase iterations for convergence"
   ]
  },
  {
   "cell_type": "markdown",
   "metadata": {},
   "source": [
    "lpf(): Linear power flow is a faster but less accurate method for solving the power flow.\n",
    "\n",
    "pf(): Full power flow is a more accurate method that takes into account nonlinearities in the system."
   ]
  },
  {
   "cell_type": "markdown",
   "metadata": {},
   "source": [
    "## Examine Power Flows\n",
    "\n",
    "You can inspect the power flows on lines and outputs of generators:"
   ]
  },
  {
   "cell_type": "code",
   "execution_count": 15,
   "metadata": {},
   "outputs": [
    {
     "name": "stdout",
     "output_type": "stream",
     "text": [
      "Generator      Gen 1\n",
      "snapshot            \n",
      "now        80.344522\n"
     ]
    }
   ],
   "source": [
    "# Generator outputs\n",
    "print(network.generators_t.p)"
   ]
  },
  {
   "cell_type": "code",
   "execution_count": 16,
   "metadata": {},
   "outputs": [
    {
     "name": "stdout",
     "output_type": "stream",
     "text": [
      "             Line 1\n",
      "snapshot           \n",
      "now       80.344522\n",
      "          Line 1\n",
      "snapshot        \n",
      "now        -80.0\n"
     ]
    }
   ],
   "source": [
    "# Power flows on lines\n",
    "print(network.lines_t.p0)  # Power flow at the \"from\" end of lines\n",
    "print(network.lines_t.p1)  # Power flow at the \"to\" end of lines"
   ]
  },
  {
   "cell_type": "markdown",
   "metadata": {},
   "source": [
    "## Voltage Angles\n",
    "\n",
    "To examine bus voltage angles:"
   ]
  },
  {
   "cell_type": "code",
   "execution_count": 17,
   "metadata": {},
   "outputs": [
    {
     "name": "stdout",
     "output_type": "stream",
     "text": [
      "Bus       Bus 1    Bus 2\n",
      "snapshot                \n",
      "now         0.0 -0.00906\n"
     ]
    }
   ],
   "source": [
    "print(network.buses_t.v_ang)"
   ]
  },
  {
   "cell_type": "markdown",
   "metadata": {},
   "source": [
    "# Step 4: Optimizing Dispatch\n",
    "PyPSA can optimize generator dispatch to minimize costs:"
   ]
  },
  {
   "cell_type": "markdown",
   "metadata": {},
   "source": [
    "Install a Solver\n",
    "\n",
    "We will use the glpk solver. Alternatively, you can install other solvers like CPLEX or Gurobi if you need more advanced features or better performance. These solvers may require licenses."
   ]
  },
  {
   "cell_type": "code",
   "execution_count": 18,
   "metadata": {},
   "outputs": [],
   "source": [
    "#!pip install swiglpk"
   ]
  },
  {
   "cell_type": "code",
   "execution_count": 19,
   "metadata": {},
   "outputs": [
    {
     "name": "stdout",
     "output_type": "stream",
     "text": [
      "True\n"
     ]
    }
   ],
   "source": [
    "# Run the following code in Python to check if the solver is available:\n",
    "import pyomo.environ as pyo\n",
    "print(pyo.SolverFactory(\"glpk\").available())"
   ]
  },
  {
   "cell_type": "code",
   "execution_count": 20,
   "metadata": {},
   "outputs": [
    {
     "name": "stderr",
     "output_type": "stream",
     "text": [
      "INFO:linopy.model: Solve problem using Glpk solver\n",
      "INFO:linopy.io: Writing time: 0.02s\n",
      "WARNING:linopy.constants:Optimization failed: \n",
      "Status: warning\n",
      "Termination condition: infeasible_or_unbounded\n",
      "Solution: 0 primals, 0 duals\n",
      "Objective: nan\n",
      "Solver model: not available\n",
      "Solver message: undefined\n",
      "\n"
     ]
    },
    {
     "name": "stdout",
     "output_type": "stream",
     "text": [
      "GLPSOL--GLPK LP/MIP Solver 5.0\r\n",
      "Parameter(s) specified in the command line:\r\n",
      " --lp C:\\Users\\faaiz\\AppData\\Local\\Temp\\linopy-problem-l13u80_m.lp --output\r\n",
      " C:\\Users\\faaiz\\AppData\\Local\\Temp\\linopy-solve-c19l8jy_.sol\r\n",
      "Reading problem data from 'C:\\Users\\faaiz\\AppData\\Local\\Temp\\linopy-problem-l13u80_m.lp'...\r\n",
      "6 rows, 2 columns, 7 non-zeros\r\n",
      "36 lines were read\r\n",
      "GLPK Simplex Optimizer 5.0\r\n",
      "6 rows, 2 columns, 7 non-zeros\r\n",
      "Preprocessing...\r\n",
      "PROBLEM HAS NO PRIMAL FEASIBLE SOLUTION\r\n",
      "If you need actual output for non-optimal solution, use --nopresol\r\n",
      "Time used:   0.0 secs\r\n",
      "Memory used: 0.0 Mb (32013 bytes)\r\n",
      "Writing basic solution to 'C:\\Users\\faaiz\\AppData\\Local\\Temp\\linopy-solve-c19l8jy_.sol'...\r\n"
     ]
    },
    {
     "data": {
      "text/plain": [
       "('warning', 'infeasible_or_unbounded')"
      ]
     },
     "execution_count": 20,
     "metadata": {},
     "output_type": "execute_result"
    }
   ],
   "source": [
    "network.optimize()"
   ]
  },
  {
   "cell_type": "markdown",
   "metadata": {},
   "source": [
    "Generator Outputs:"
   ]
  },
  {
   "cell_type": "code",
   "execution_count": 21,
   "metadata": {},
   "outputs": [
    {
     "name": "stdout",
     "output_type": "stream",
     "text": [
      "Generator      Gen 1\n",
      "snapshot            \n",
      "now        80.344522\n"
     ]
    }
   ],
   "source": [
    "print(network.generators_t.p)\n",
    "#This shows the power generated by each generator."
   ]
  },
  {
   "cell_type": "markdown",
   "metadata": {},
   "source": [
    "Line Flows:"
   ]
  },
  {
   "cell_type": "code",
   "execution_count": 22,
   "metadata": {},
   "outputs": [
    {
     "name": "stdout",
     "output_type": "stream",
     "text": [
      "             Line 1\n",
      "snapshot           \n",
      "now       80.344522\n",
      "          Line 1\n",
      "snapshot        \n",
      "now        -80.0\n"
     ]
    }
   ],
   "source": [
    "print(network.lines_t.p0)  # Power flow at the \"from\" end of lines\n",
    "print(network.lines_t.p1)  # Power flow at the \"to\" end of lines"
   ]
  }
 ],
 "metadata": {
  "kernelspec": {
   "display_name": "Python (pypsa_env)",
   "language": "python",
   "name": "pypsa_env"
  },
  "language_info": {
   "codemirror_mode": {
    "name": "ipython",
    "version": 3
   },
   "file_extension": ".py",
   "mimetype": "text/x-python",
   "name": "python",
   "nbconvert_exporter": "python",
   "pygments_lexer": "ipython3",
   "version": "3.8.10"
  },
  "toc": {
   "base_numbering": 1,
   "nav_menu": {},
   "number_sections": true,
   "sideBar": true,
   "skip_h1_title": false,
   "title_cell": "Table of Contents",
   "title_sidebar": "Contents",
   "toc_cell": false,
   "toc_position": {},
   "toc_section_display": true,
   "toc_window_display": false
  }
 },
 "nbformat": 4,
 "nbformat_minor": 4
}
